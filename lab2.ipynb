{
 "metadata": {
  "language_info": {
   "codemirror_mode": {
    "name": "ipython",
    "version": 3
   },
   "file_extension": ".py",
   "mimetype": "text/x-python",
   "name": "python",
   "nbconvert_exporter": "python",
   "pygments_lexer": "ipython3",
   "version": "3.6.6-final"
  },
  "orig_nbformat": 2,
  "kernelspec": {
   "name": "python3",
   "display_name": "Python 3",
   "language": "python"
  }
 },
 "nbformat": 4,
 "nbformat_minor": 2,
 "cells": [
  {
   "cell_type": "code",
   "execution_count": 8,
   "metadata": {},
   "outputs": [
    {
     "output_type": "stream",
     "name": "stdout",
     "text": [
      "{'name': 'blogger', 'users': [['admins', '1', '2', '3'], ['editors', '4', '5', '6']]}\nparse ['admins', '1', '2', '3']\nparse ['editors', '4', '5', '6']\ny\n[1, 2, 3]\nz\n[10, 2, 3]\nsum = 10; i =10\nsum = 12; i =2\nsum = 15; i =3\nTotal = 15\n"
     ]
    }
   ],
   "source": [
    "import json\n",
    "import requests\n",
    "\n",
    "site=\"https://api.npoint.io/2b57052af2060e84dc86\"\n",
    "\n",
    "# Your code goes here\n",
    "\n",
    "\n",
    "\n",
    "# Trying to load JSON into text\n",
    "r = requests.get(site)\n",
    "print(r.json())\n",
    "text = r.json()['users']\n",
    "\n",
    "# Debug\n",
    "for i in text:\n",
    "    print(\"parse \" + str(i))\n",
    "\n",
    "\n",
    "\n",
    "# call the function convert_number\n",
    "# convert all elements (except the first one) into number and return it as a list\n",
    "def convert_number(l):\n",
    "    a = []\n",
    "    for i in range(1, len(l)):\n",
    "        a.append(int(l[i]))\n",
    "    return a\n",
    "        \n",
    "y = convert_number(text[0]) \n",
    "\n",
    "print(\"y\")\n",
    "print(y)\n",
    "\n",
    "# call the function replace_number\n",
    "# replace all number 1 by the number 10 in the function\n",
    "def replace_number(number_list, being_replace, to_replace):\n",
    "    for i in range(len(number_list)):\n",
    "        if(number_list[i] == being_replace):\n",
    "            number_list[i] = to_replace\n",
    "    return number_list\n",
    "z = replace_number(number_list = y, being_replace = 1, to_replace = 10)\n",
    "\n",
    "print(\"z\")\n",
    "print(z)\n",
    "\n",
    "sum = 0\n",
    "for i in z:\n",
    "    sum = sum + i\n",
    "    print(\"sum = \" + str(sum) + \"; i =\" + str(i))\n",
    "print (\"Total = \" + str(sum))\n"
   ]
  },
  {
   "cell_type": "code",
   "execution_count": null,
   "metadata": {},
   "outputs": [],
   "source": []
  }
 ]
}